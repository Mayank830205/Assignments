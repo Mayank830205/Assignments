{
  "cells": [
    {
      "cell_type": "markdown",
      "source": [
        "# **Data Types and Structures Questions**"
      ],
      "metadata": {
        "id": "RzWZQ1p3OoVs"
      },
      "id": "RzWZQ1p3OoVs"
    },
    {
      "cell_type": "markdown",
      "source": [
        "1. **What are data structures, and why are they important ?**\n",
        "--> Data structures are specialized formats for organizing, storing, and accessing collections of data.they are important because they help in conserve memory usage and simplify data mainipulation.\n",
        "2. **Explain the difference between mutable and immutable data types with examples ?**\n",
        "--> we can change the original data in object in case of mutable data type while we cannot change the original data in object in case of immutable data type.\n",
        "example= li=[1,2,3]\n",
        "        t=(1,2,3)\n",
        "        li[0]=10 does not gives error\n",
        "        t[0]=10  gives an error\n",
        "3. **What are the main differences between lists and tuples in Python ?**\n",
        "--> lists is a mutable datatype where tuples is a immutable data type.  \n",
        "\n",
        "4. **Describe how dictionaries store data?**\n",
        "-->Dictionaries are the Unordered collections in which Elements are not stored in a specific order.dictionaries store the data in keys and values pair.\n",
        "\n",
        "5. **Why might you use a set instead of a list in Python ?**\n",
        "--> Set is generally used when we do not want to store the duplicate values in the object.\n",
        "\n",
        "6. **What is a string in Python, and how is it different from a list ?**\n",
        "--> In Python, a string is a sequence of characters.Strings are immutable once created, we can't change a character in place while list are mutable we can change any items  after created.\n",
        "7. **How do tuples ensure data integrity in Python ?**\n",
        "--> tuple is a immutable data type so that it ensures the data integrity.\n",
        "\n",
        "8. **What is a hash table, and how does it relate to dictionaries in Python ?**\n",
        "--> A hash table is a data structure that stores key-value pairs and uses a hashing function to compute an index (also called a \"hash code\") into an array of slots.\n",
        "9. **Can lists contain different data types in Python ?**\n",
        "--> Yes, lists contain different data types in python.\n",
        "10. **Explain why strings are immutable in Python ?**\n",
        "-->String are immutable because once the string is created we cannot change the charcter in place.\n",
        "11. **What advantages do dictionaries offer over lists for certain tasks ?**\n",
        "--> Dictionaries offer certain advantages over lists like key based access means we can access directly with the key no need to remember index value or sequence of data.lookup speed(searching) is better than lists.\n",
        "12. **How do sets handle duplicate values in Python ?**\n",
        "--> Sets removes the duplicate values in python.\n",
        "13. **Describe a scenario where using a tuple would be preferable over a list ?**\n",
        "--> tuple is preferable   over a list when if we want to ensures the data integrity.\n",
        "14. **How does the “in” keyword work differently for lists and dictionaries ?**\n",
        "--> For lists it checks whether value exists or not in the list while in case of dictionaries it checks the whether key exits or not.\n",
        "15. **Can you modify the elements of a tuple? Explain why or why not ?**\n",
        "-->No,we cannot modify the elements in the tuple because it is a immutable data type.\n",
        "16. **What is a nested dictionary, and give an example of its use case ?**\n",
        "-->A nested dictionary is a dictionary inside another dictionary.It is used when we want to organise the data in heirarchical format.\n",
        "example-- students = {\n",
        "    \"101\": {\"name\": \"Alice\", \"age\": 20, \"grade\": \"A\"},\n",
        "    \"102\": {\"name\": \"Bob\", \"age\": 22, \"grade\": \"B\"},\n",
        "}\n",
        "17. **Describe the time complexity of accessing elements in a dictionary ?**\n",
        "-->Accessing elements in a dictionary is very fast.Time complexity is O(1)(constant time).Fast because Python uses a hash table internally so that It hashes the key and directly jumps to the index in memory.\n",
        "18. **In what situations are lists preferred over dictionaries ?**\n",
        "-->list are prefered when the data is just an ordered collection of values.\n",
        "19. **Why are dictionaries considered unordered, and how does that affect data retrieval ?**\n",
        "-->dictionaries considered unordered because they are hash-based,not indexed based.we cannot access data through index values.\n",
        "20. **Explain the difference between a list and a dictionary in terms of data retrieval ?**\n",
        "--> list uses the index values for data retrieval while dictionary uses keys to retrive values or data."
      ],
      "metadata": {
        "id": "fK-XrIHLO2Ut"
      },
      "id": "fK-XrIHLO2Ut"
    },
    {
      "cell_type": "markdown",
      "source": [
        "# Practical **Questions**"
      ],
      "metadata": {
        "id": "h4RrLThiKkqi"
      },
      "id": "h4RrLThiKkqi"
    },
    {
      "cell_type": "markdown",
      "source": [
        "1.  Write a code to create a string with your name and print it"
      ],
      "metadata": {
        "id": "eObCpycpK70a"
      },
      "id": "eObCpycpK70a"
    },
    {
      "cell_type": "code",
      "execution_count": null,
      "id": "227483ed-c12d-4e46-8e0a-c35710cbc5d3",
      "metadata": {
        "id": "227483ed-c12d-4e46-8e0a-c35710cbc5d3",
        "outputId": "9bfb88a5-5f6f-49fe-8dec-7d22707153c4"
      },
      "outputs": [
        {
          "name": "stdout",
          "output_type": "stream",
          "text": [
            "Mayank\n"
          ]
        }
      ],
      "source": [
        "name=\"Mayank\"\n",
        "print(name)"
      ]
    },
    {
      "cell_type": "markdown",
      "source": [
        "2.  Write a code to find the length of the string \"Hello World\""
      ],
      "metadata": {
        "id": "7gR4ez1lLFLV"
      },
      "id": "7gR4ez1lLFLV"
    },
    {
      "cell_type": "code",
      "execution_count": null,
      "id": "3d31ffc5-a07b-4165-bbb7-438522beca65",
      "metadata": {
        "id": "3d31ffc5-a07b-4165-bbb7-438522beca65",
        "outputId": "f2d80a8c-86e6-44d5-dc7d-fc415ad620d6"
      },
      "outputs": [
        {
          "name": "stdout",
          "output_type": "stream",
          "text": [
            "11\n"
          ]
        }
      ],
      "source": [
        "x=\"Hello World\"\n",
        "print(len(x))"
      ]
    },
    {
      "cell_type": "markdown",
      "source": [
        "3. Write a code to slice the first 3 characters from the string \"Python Programming\""
      ],
      "metadata": {
        "id": "u2BWdJgWLMiM"
      },
      "id": "u2BWdJgWLMiM"
    },
    {
      "cell_type": "code",
      "execution_count": null,
      "id": "bbf531f0-87a5-45ca-8528-952651032078",
      "metadata": {
        "id": "bbf531f0-87a5-45ca-8528-952651032078",
        "outputId": "fdaaa484-6fd5-47b9-9a14-9d087e7d9e5c"
      },
      "outputs": [
        {
          "data": {
            "text/plain": [
              "'Pyt'"
            ]
          },
          "execution_count": 3,
          "metadata": {},
          "output_type": "execute_result"
        }
      ],
      "source": [
        "x=\"Python Programming\"\n",
        "x[:3]"
      ]
    },
    {
      "cell_type": "markdown",
      "source": [
        "4.  Write a code to convert the string \"hello\" to uppercase"
      ],
      "metadata": {
        "id": "LBtFRvZwLTU3"
      },
      "id": "LBtFRvZwLTU3"
    },
    {
      "cell_type": "code",
      "execution_count": null,
      "id": "2f8d42e0-bcce-401b-bb11-27df0c6b3f4a",
      "metadata": {
        "id": "2f8d42e0-bcce-401b-bb11-27df0c6b3f4a",
        "outputId": "832bed70-d7d5-40a0-efdd-bd7ce1e2113f"
      },
      "outputs": [
        {
          "data": {
            "text/plain": [
              "'HELLO'"
            ]
          },
          "execution_count": 5,
          "metadata": {},
          "output_type": "execute_result"
        }
      ],
      "source": [
        "ch=\"hello\"\n",
        "ch.upper()"
      ]
    },
    {
      "cell_type": "markdown",
      "source": [
        "5.  Write a code to replace the word \"apple\" with \"orange\" in the string \"I like apple\""
      ],
      "metadata": {
        "id": "tmNttk7VLafL"
      },
      "id": "tmNttk7VLafL"
    },
    {
      "cell_type": "code",
      "execution_count": null,
      "id": "dcf0e809-c010-43d6-8d22-09d5b4faba99",
      "metadata": {
        "id": "dcf0e809-c010-43d6-8d22-09d5b4faba99",
        "outputId": "6f2235b8-2ce8-45d6-a7bc-dec3075c3458"
      },
      "outputs": [
        {
          "data": {
            "text/plain": [
              "'I like orange'"
            ]
          },
          "execution_count": 6,
          "metadata": {},
          "output_type": "execute_result"
        }
      ],
      "source": [
        "str=\"I like apple\"\n",
        "str.replace(\"apple\",\"orange\")"
      ]
    },
    {
      "cell_type": "markdown",
      "source": [
        "6.  Write a code to create a list with numbers 1 to 5 and print it"
      ],
      "metadata": {
        "id": "hd1SfqLBLhft"
      },
      "id": "hd1SfqLBLhft"
    },
    {
      "cell_type": "code",
      "execution_count": null,
      "id": "f03d9333-bf51-40e7-924a-b10ef0b4a914",
      "metadata": {
        "id": "f03d9333-bf51-40e7-924a-b10ef0b4a914",
        "outputId": "e8e95b0d-7645-4df4-d5ab-5d536304db24"
      },
      "outputs": [
        {
          "data": {
            "text/plain": [
              "[1, 2, 3, 4, 5]"
            ]
          },
          "execution_count": 7,
          "metadata": {},
          "output_type": "execute_result"
        }
      ],
      "source": [
        "l=[1,2,3,4,5]\n",
        "l"
      ]
    },
    {
      "cell_type": "markdown",
      "source": [
        "7.  Write a code to append the number 10 to the list [1, 2, 3, 4]."
      ],
      "metadata": {
        "id": "DtdjSka3LnSH"
      },
      "id": "DtdjSka3LnSH"
    },
    {
      "cell_type": "code",
      "execution_count": null,
      "id": "b77affcb-00d9-43fd-a094-870dd145271a",
      "metadata": {
        "id": "b77affcb-00d9-43fd-a094-870dd145271a",
        "outputId": "f87cb175-0033-40bf-8205-cb06d06e1411"
      },
      "outputs": [
        {
          "data": {
            "text/plain": [
              "[1, 2, 3, 4, 10]"
            ]
          },
          "execution_count": 8,
          "metadata": {},
          "output_type": "execute_result"
        }
      ],
      "source": [
        "l=[1,2,3,4]\n",
        "l.append(10)\n",
        "l"
      ]
    },
    {
      "cell_type": "markdown",
      "source": [
        "8.  Write a code to remove the number 3 from the list [1, 2, 3, 4, 5]."
      ],
      "metadata": {
        "id": "uCwG7H7vLwb1"
      },
      "id": "uCwG7H7vLwb1"
    },
    {
      "cell_type": "code",
      "execution_count": null,
      "id": "8dc821b0-f1f7-46f6-bcb8-6f7b88d3c9e1",
      "metadata": {
        "id": "8dc821b0-f1f7-46f6-bcb8-6f7b88d3c9e1",
        "outputId": "67cfbf6d-44d2-4968-bd79-e1ffe57db14e"
      },
      "outputs": [
        {
          "data": {
            "text/plain": [
              "[1, 2, 4, 5]"
            ]
          },
          "execution_count": 9,
          "metadata": {},
          "output_type": "execute_result"
        }
      ],
      "source": [
        "l=[1,2,3,4,5]\n",
        "l.remove(3)\n",
        "l"
      ]
    },
    {
      "cell_type": "markdown",
      "source": [
        "9.  Write a code to access the second element in the list ['a', 'b', 'c', 'd']."
      ],
      "metadata": {
        "id": "rhbt79hkL3nd"
      },
      "id": "rhbt79hkL3nd"
    },
    {
      "cell_type": "code",
      "execution_count": null,
      "id": "d4f27199-50a2-4a22-8375-f6ad6ecfe251",
      "metadata": {
        "id": "d4f27199-50a2-4a22-8375-f6ad6ecfe251",
        "outputId": "daf2ed05-edbc-4491-d20e-fd8cd291dc5b"
      },
      "outputs": [
        {
          "data": {
            "text/plain": [
              "'b'"
            ]
          },
          "execution_count": 10,
          "metadata": {},
          "output_type": "execute_result"
        }
      ],
      "source": [
        "l=['a','b','c','d']\n",
        "l[1]"
      ]
    },
    {
      "cell_type": "markdown",
      "source": [
        "10.  Write a code to reverse the list [10, 20, 30, 40, 50]."
      ],
      "metadata": {
        "id": "vTIUVfl1L-uM"
      },
      "id": "vTIUVfl1L-uM"
    },
    {
      "cell_type": "code",
      "execution_count": null,
      "id": "bb3c20c2-a0bc-468d-975a-c810144cfce8",
      "metadata": {
        "id": "bb3c20c2-a0bc-468d-975a-c810144cfce8",
        "outputId": "e70efeb7-effb-4aab-8a12-53622d92b822"
      },
      "outputs": [
        {
          "data": {
            "text/plain": [
              "[50, 40, 30, 20, 10]"
            ]
          },
          "execution_count": 11,
          "metadata": {},
          "output_type": "execute_result"
        }
      ],
      "source": [
        "l=[10,20,30,40,50]\n",
        "l[::-1]"
      ]
    },
    {
      "cell_type": "markdown",
      "source": [
        "11.  Write a code to create a tuple with the elements 100, 200, 300 and print it.\n"
      ],
      "metadata": {
        "id": "Yo6_R79tMG1h"
      },
      "id": "Yo6_R79tMG1h"
    },
    {
      "cell_type": "code",
      "execution_count": null,
      "id": "0e2b3d54-c9d3-49c1-b2aa-0e95b579cb1e",
      "metadata": {
        "id": "0e2b3d54-c9d3-49c1-b2aa-0e95b579cb1e",
        "outputId": "f519ce3e-2df2-4872-ec7a-eb7e516a46fd"
      },
      "outputs": [
        {
          "data": {
            "text/plain": [
              "(100, 200, 300)"
            ]
          },
          "execution_count": 12,
          "metadata": {},
          "output_type": "execute_result"
        }
      ],
      "source": [
        "t=(100,200,300)\n",
        "t"
      ]
    },
    {
      "cell_type": "markdown",
      "source": [
        "12. Write a code to access the second-to-last element of the tuple ('red', 'green', 'blue', 'yellow').\n"
      ],
      "metadata": {
        "id": "20cjA0lGMSFU"
      },
      "id": "20cjA0lGMSFU"
    },
    {
      "cell_type": "code",
      "execution_count": null,
      "id": "9e4f29fe-2119-40bc-8850-c6b43a147eee",
      "metadata": {
        "id": "9e4f29fe-2119-40bc-8850-c6b43a147eee",
        "outputId": "18506bd7-d7a5-4b4d-b456-c7511ce92831"
      },
      "outputs": [
        {
          "data": {
            "text/plain": [
              "'blue'"
            ]
          },
          "execution_count": 14,
          "metadata": {},
          "output_type": "execute_result"
        }
      ],
      "source": [
        "t=('red','green','blue','yellow')\n",
        "t[-2]"
      ]
    },
    {
      "cell_type": "markdown",
      "source": [
        "13. Write a code to find the minimum number in the tuple (10, 20, 5, 15).\n"
      ],
      "metadata": {
        "id": "9_-q8zVaMVle"
      },
      "id": "9_-q8zVaMVle"
    },
    {
      "cell_type": "code",
      "execution_count": null,
      "id": "273ef2be-b810-4810-8ef4-8b07664376c6",
      "metadata": {
        "id": "273ef2be-b810-4810-8ef4-8b07664376c6",
        "outputId": "09a4c682-681e-4c39-dd8c-cb1bd9d1c355"
      },
      "outputs": [
        {
          "data": {
            "text/plain": [
              "5"
            ]
          },
          "execution_count": 19,
          "metadata": {},
          "output_type": "execute_result"
        }
      ],
      "source": [
        "t=(10,20,5,15)\n",
        "min(t)"
      ]
    },
    {
      "cell_type": "markdown",
      "source": [
        "14. Write a code to find the index of the element \"cat\" in the tuple ('dog', 'cat', 'rabbit').\n"
      ],
      "metadata": {
        "id": "BO3m1IifMZ21"
      },
      "id": "BO3m1IifMZ21"
    },
    {
      "cell_type": "code",
      "execution_count": null,
      "id": "30002ba4-2f9f-4af1-83fb-844bfb72afa9",
      "metadata": {
        "id": "30002ba4-2f9f-4af1-83fb-844bfb72afa9",
        "outputId": "ed6a6452-4481-4b65-d23c-5f62f2cb732f"
      },
      "outputs": [
        {
          "data": {
            "text/plain": [
              "1"
            ]
          },
          "execution_count": 20,
          "metadata": {},
          "output_type": "execute_result"
        }
      ],
      "source": [
        "t=(\"dog\",'cat','rabbit')\n",
        "t.index(\"cat\")"
      ]
    },
    {
      "cell_type": "markdown",
      "source": [
        " 15. Write a code to create a tuple containing three different fruits and check if \"kiwi\" is in it."
      ],
      "metadata": {
        "id": "B79OEEgSMcXC"
      },
      "id": "B79OEEgSMcXC"
    },
    {
      "cell_type": "code",
      "execution_count": null,
      "id": "190238cc-da2b-4010-a8e4-e443f6f4ee88",
      "metadata": {
        "id": "190238cc-da2b-4010-a8e4-e443f6f4ee88",
        "outputId": "8b926e8b-9283-4d67-b88d-f9f29268fd73"
      },
      "outputs": [
        {
          "data": {
            "text/plain": [
              "True"
            ]
          },
          "execution_count": 22,
          "metadata": {},
          "output_type": "execute_result"
        }
      ],
      "source": [
        "t=(\"apple\",\"peach\",\"kiwi\")\n",
        "\"kiwi\" in t"
      ]
    },
    {
      "cell_type": "markdown",
      "source": [
        " 16. Write a code to create a set with the elements 'a', 'b', 'c' and print it.\n"
      ],
      "metadata": {
        "id": "dVYaUBCiMpf0"
      },
      "id": "dVYaUBCiMpf0"
    },
    {
      "cell_type": "code",
      "execution_count": null,
      "id": "19ff17fb-6212-4ccd-affd-c2d9ca815afa",
      "metadata": {
        "id": "19ff17fb-6212-4ccd-affd-c2d9ca815afa",
        "outputId": "cc394d58-0082-4350-8843-87e0b013ae07"
      },
      "outputs": [
        {
          "data": {
            "text/plain": [
              "{'a', 'b', 'c'}"
            ]
          },
          "execution_count": 23,
          "metadata": {},
          "output_type": "execute_result"
        }
      ],
      "source": [
        "s={'a','b','c'}\n",
        "s"
      ]
    },
    {
      "cell_type": "markdown",
      "source": [
        "17. Write a code to clear all elements from the set {1, 2, 3, 4, 5}.\n"
      ],
      "metadata": {
        "id": "fLaNqucTMs9D"
      },
      "id": "fLaNqucTMs9D"
    },
    {
      "cell_type": "code",
      "execution_count": null,
      "id": "f939b176-b02e-44db-9fba-974243940e9a",
      "metadata": {
        "id": "f939b176-b02e-44db-9fba-974243940e9a",
        "outputId": "e2801244-da42-4f8a-9cb1-59ba9f81356d"
      },
      "outputs": [
        {
          "data": {
            "text/plain": [
              "set()"
            ]
          },
          "execution_count": 25,
          "metadata": {},
          "output_type": "execute_result"
        }
      ],
      "source": [
        "s={1,2,3,4,5}\n",
        "s.clear()\n",
        "s"
      ]
    },
    {
      "cell_type": "markdown",
      "source": [
        "18. Write a code to remove the element 4 from the set {1, 2, 3, 4}.\n"
      ],
      "metadata": {
        "id": "5z6pEg7hMwPB"
      },
      "id": "5z6pEg7hMwPB"
    },
    {
      "cell_type": "code",
      "execution_count": null,
      "id": "1cc88ca9-7706-4355-b1bd-26286a0483c2",
      "metadata": {
        "id": "1cc88ca9-7706-4355-b1bd-26286a0483c2",
        "outputId": "1cf904da-26e7-4525-c746-f9bf54d20ccf"
      },
      "outputs": [
        {
          "data": {
            "text/plain": [
              "{1, 2, 3}"
            ]
          },
          "execution_count": 27,
          "metadata": {},
          "output_type": "execute_result"
        }
      ],
      "source": [
        "s={1,2,3,4}\n",
        "s.remove(4)\n",
        "s"
      ]
    },
    {
      "cell_type": "markdown",
      "source": [
        "19. Write a code to find the union of two sets {1, 2, 3} and {3, 4, 5}.\n"
      ],
      "metadata": {
        "id": "XYcQ9ZAcMy_m"
      },
      "id": "XYcQ9ZAcMy_m"
    },
    {
      "cell_type": "code",
      "execution_count": null,
      "id": "b8dab091-a162-41eb-bc17-4558f76da7fb",
      "metadata": {
        "id": "b8dab091-a162-41eb-bc17-4558f76da7fb",
        "outputId": "31391b99-eb2d-4d39-94a4-66d082a4aecb"
      },
      "outputs": [
        {
          "data": {
            "text/plain": [
              "{1, 2, 3, 4, 5}"
            ]
          },
          "execution_count": 35,
          "metadata": {},
          "output_type": "execute_result"
        }
      ],
      "source": [
        "s1={1,2,3}\n",
        "s2={3,4,5}\n",
        "s1.union(s2)"
      ]
    },
    {
      "cell_type": "markdown",
      "source": [
        "20. Write a code to find the intersection of two sets {1, 2, 3} and {2, 3, 4}."
      ],
      "metadata": {
        "id": "k4sJe-5mM2ZZ"
      },
      "id": "k4sJe-5mM2ZZ"
    },
    {
      "cell_type": "code",
      "execution_count": null,
      "id": "414c8256-b011-4653-80b5-0fdc2a8c7073",
      "metadata": {
        "colab": {
          "base_uri": "https://localhost:8080/"
        },
        "id": "414c8256-b011-4653-80b5-0fdc2a8c7073",
        "outputId": "39a024ba-111c-456b-f202-1b717de65449"
      },
      "outputs": [
        {
          "output_type": "execute_result",
          "data": {
            "text/plain": [
              "{2, 3}"
            ]
          },
          "metadata": {},
          "execution_count": 1
        }
      ],
      "source": [
        "s1={1,2,3}\n",
        "s2={2,3,4}\n",
        "s1.intersection(s2)"
      ]
    },
    {
      "cell_type": "markdown",
      "source": [],
      "metadata": {
        "id": "71Q0aigZM4XR"
      },
      "id": "71Q0aigZM4XR"
    },
    {
      "cell_type": "markdown",
      "source": [
        " 21. Write a code to create a dictionary with the keys \"name\", \"age\", and \"city\", and print it.\n"
      ],
      "metadata": {
        "id": "UWYLvq4oNINn"
      },
      "id": "UWYLvq4oNINn"
    },
    {
      "cell_type": "code",
      "execution_count": null,
      "id": "beb76d14-59ce-422c-9fdd-a8d5fde1866e",
      "metadata": {
        "id": "beb76d14-59ce-422c-9fdd-a8d5fde1866e",
        "outputId": "3548587f-bcbb-41a0-f5a2-15925de48d9b"
      },
      "outputs": [
        {
          "data": {
            "text/plain": [
              "{'name': 'Mayank', 'age': 21, 'city': 'Pune'}"
            ]
          },
          "execution_count": 1,
          "metadata": {},
          "output_type": "execute_result"
        }
      ],
      "source": [
        "dict={\n",
        "    \"name\":\"Mayank\",\n",
        "    \"age\":21,\n",
        "    \"city\":\"Pune\"\n",
        "}\n",
        "dict"
      ]
    },
    {
      "cell_type": "markdown",
      "source": [
        "22. Write a code to add a new key-value pair \"country\": \"USA\" to the dictionary {'name': 'John', 'age': 25}.\n",
        " result.(replaced)\n"
      ],
      "metadata": {
        "id": "IQtP_3bONSFn"
      },
      "id": "IQtP_3bONSFn"
    },
    {
      "cell_type": "code",
      "execution_count": null,
      "id": "4b878e42-b7c6-4b66-9f07-92453eef7842",
      "metadata": {
        "id": "4b878e42-b7c6-4b66-9f07-92453eef7842",
        "outputId": "635153ad-992d-43d3-9a1b-30ad9c3827b7"
      },
      "outputs": [
        {
          "data": {
            "text/plain": [
              "{'name': 'John', 'age': 25, 'country': 'USA'}"
            ]
          },
          "execution_count": 7,
          "metadata": {},
          "output_type": "execute_result"
        }
      ],
      "source": [
        "dict={\n",
        "    \"name\":\"John\",\n",
        "    \"age\":25\n",
        "}\n",
        "dict.update({\"country\":\"USA\"})\n",
        "dict"
      ]
    },
    {
      "cell_type": "markdown",
      "source": [
        " 23. Write a code to access the value associated with the key \"name\" in the dictionary {'name': 'Alice', 'age': 30}.\n"
      ],
      "metadata": {
        "id": "IfEbzkOrNVQz"
      },
      "id": "IfEbzkOrNVQz"
    },
    {
      "cell_type": "code",
      "execution_count": null,
      "id": "a359fe0c-7267-48c3-943c-6df843c9f74a",
      "metadata": {
        "id": "a359fe0c-7267-48c3-943c-6df843c9f74a",
        "outputId": "ce3d4883-9b7e-49bb-a3cc-94b89e9e4ac7"
      },
      "outputs": [
        {
          "data": {
            "text/plain": [
              "'Alice'"
            ]
          },
          "execution_count": 8,
          "metadata": {},
          "output_type": "execute_result"
        }
      ],
      "source": [
        "dict={\n",
        "    \"name\":\"Alice\",\n",
        "    \"age\":30\n",
        "}\n",
        "dict['name']"
      ]
    },
    {
      "cell_type": "markdown",
      "source": [
        "24. Write a code to remove the key \"age\" from the dictionary {'name': 'Bob', 'age': 22, 'city': 'New York'}.\n"
      ],
      "metadata": {
        "id": "aCZzre0UNYzR"
      },
      "id": "aCZzre0UNYzR"
    },
    {
      "cell_type": "code",
      "execution_count": null,
      "id": "8a1d6fad-bf9a-4402-9778-71065a9129ff",
      "metadata": {
        "id": "8a1d6fad-bf9a-4402-9778-71065a9129ff",
        "outputId": "ef556aa5-b137-4374-c156-c10e96ad86cb"
      },
      "outputs": [
        {
          "data": {
            "text/plain": [
              "{'name': 'Bob', 'city': 'Newyork'}"
            ]
          },
          "execution_count": 11,
          "metadata": {},
          "output_type": "execute_result"
        }
      ],
      "source": [
        "dict={\n",
        "    \"name\":\"Bob\",\n",
        "    \"age\":22,\n",
        "    \"city\":\"Newyork\"\n",
        "}\n",
        "dict.pop(\"age\")\n",
        "dict"
      ]
    },
    {
      "cell_type": "markdown",
      "source": [
        "25. Write a code to check if the key \"city\" exists in the dictionary {'name': 'Alice', 'city': 'Paris'}.\n"
      ],
      "metadata": {
        "id": "KnkC4qwGNb57"
      },
      "id": "KnkC4qwGNb57"
    },
    {
      "cell_type": "code",
      "execution_count": null,
      "id": "caaba71f-9e76-4269-a9e1-b6b26b3bb744",
      "metadata": {
        "id": "caaba71f-9e76-4269-a9e1-b6b26b3bb744",
        "outputId": "bed076a4-9f28-401e-9245-28a3d0843c70"
      },
      "outputs": [
        {
          "data": {
            "text/plain": [
              "True"
            ]
          },
          "execution_count": 14,
          "metadata": {},
          "output_type": "execute_result"
        }
      ],
      "source": [
        "dict={\n",
        "    \"name\":\"Alice\",\n",
        "    \"city\":\"Paris\"\n",
        "}\n",
        "\"city\" in dict.keys()"
      ]
    },
    {
      "cell_type": "markdown",
      "source": [
        " 26. Write a code to create a list, a tuple, and a dictionary, and print them all.\n"
      ],
      "metadata": {
        "id": "DE1rVQe7NfZk"
      },
      "id": "DE1rVQe7NfZk"
    },
    {
      "cell_type": "code",
      "execution_count": null,
      "id": "af76bfb5-ecd7-477c-a46c-447e29738ab1",
      "metadata": {
        "id": "af76bfb5-ecd7-477c-a46c-447e29738ab1",
        "outputId": "920941ef-5bcd-439e-abf1-15b42c136a33"
      },
      "outputs": [
        {
          "name": "stdout",
          "output_type": "stream",
          "text": [
            "[1, 2, 3, 4, 5]\n",
            "(10, 20, 30, 40)\n",
            "{'name': 'Mayank', 'city': 'Pune'}\n"
          ]
        }
      ],
      "source": [
        "li=[1,2,3,4,5]\n",
        "t=(10,20,30,40)\n",
        "dict={\n",
        "    \"name\":\"Mayank\",\n",
        "    \"city\":\"Pune\"\n",
        "     }\n",
        "print(li)\n",
        "print(t)\n",
        "print(dict)\n"
      ]
    },
    {
      "cell_type": "markdown",
      "source": [
        "27. Write a code to create a list of 5 random numbers between 1 and 100, sort it in ascending order, and print the"
      ],
      "metadata": {
        "id": "WdnDBCjiNowa"
      },
      "id": "WdnDBCjiNowa"
    },
    {
      "cell_type": "code",
      "execution_count": null,
      "id": "9ff7ecc5-176e-4f0b-9f7d-ba23b9f78d99",
      "metadata": {
        "id": "9ff7ecc5-176e-4f0b-9f7d-ba23b9f78d99",
        "outputId": "147e27d4-572f-48eb-e22d-056aa70f46bd"
      },
      "outputs": [
        {
          "data": {
            "text/plain": [
              "[19, 21, 32, 67, 85]"
            ]
          },
          "execution_count": 16,
          "metadata": {},
          "output_type": "execute_result"
        }
      ],
      "source": [
        "li=[67,32,85,21,19]\n",
        "li.sort()\n",
        "li"
      ]
    },
    {
      "cell_type": "markdown",
      "source": [
        "28. Write a code to create a list with strings and print the element at the third index.\n"
      ],
      "metadata": {
        "id": "32VK7VbsNtil"
      },
      "id": "32VK7VbsNtil"
    },
    {
      "cell_type": "code",
      "execution_count": null,
      "id": "dc7d4af2-215f-4ab1-8bbf-2f9959f170f1",
      "metadata": {
        "id": "dc7d4af2-215f-4ab1-8bbf-2f9959f170f1",
        "outputId": "39a25b08-e310-47bd-fcb8-3ff7b3eb2b85"
      },
      "outputs": [
        {
          "data": {
            "text/plain": [
              "'John'"
            ]
          },
          "execution_count": 17,
          "metadata": {},
          "output_type": "execute_result"
        }
      ],
      "source": [
        "li=['hello','good','morning',\"John\"]\n",
        "li[3]"
      ]
    },
    {
      "cell_type": "markdown",
      "source": [
        "29. Write a code to combine two dictionaries into one and print the result.\n"
      ],
      "metadata": {
        "id": "2CLxR5l6N713"
      },
      "id": "2CLxR5l6N713"
    },
    {
      "cell_type": "code",
      "execution_count": null,
      "id": "0080ad53-3dc0-4092-8a23-dd41d6f4535b",
      "metadata": {
        "id": "0080ad53-3dc0-4092-8a23-dd41d6f4535b",
        "outputId": "90d34e2a-0dc1-4df8-bbd7-786ece3d3b26"
      },
      "outputs": [
        {
          "data": {
            "text/plain": [
              "{'name': 'Mayank', 'age': 21, 'city': 'Pune'}"
            ]
          },
          "execution_count": 24,
          "metadata": {},
          "output_type": "execute_result"
        }
      ],
      "source": [
        "dict1={\n",
        "    \"name\":\"Mayank\",\n",
        "    \"age\":21,\n",
        "}\n",
        "dict2={\n",
        "    \"city\":\"Pune\"\n",
        "}\n",
        "dict1.update(dict2)\n",
        "dict1"
      ]
    },
    {
      "cell_type": "markdown",
      "source": [
        "30. Write a code to convert a list of strings into a set"
      ],
      "metadata": {
        "id": "7VYdyorCOBhH"
      },
      "id": "7VYdyorCOBhH"
    },
    {
      "cell_type": "code",
      "execution_count": null,
      "id": "64bcbcca-fc68-4768-acfb-d523e5433093",
      "metadata": {
        "id": "64bcbcca-fc68-4768-acfb-d523e5433093",
        "outputId": "c7b76be3-a3ae-40e6-e920-26f5d6528698"
      },
      "outputs": [
        {
          "data": {
            "text/plain": [
              "{'John', 'good', 'hello', 'morning'}"
            ]
          },
          "execution_count": 28,
          "metadata": {},
          "output_type": "execute_result"
        }
      ],
      "source": [
        "li=['hello','good','morning',\"John\"]\n",
        "s={}\n",
        "s=set(li)\n",
        "s"
      ]
    },
    {
      "cell_type": "code",
      "execution_count": null,
      "id": "27c9e1be-d8b3-4b17-8e35-43634defe15b",
      "metadata": {
        "id": "27c9e1be-d8b3-4b17-8e35-43634defe15b"
      },
      "outputs": [],
      "source": []
    }
  ],
  "metadata": {
    "kernelspec": {
      "display_name": "Python 3 (ipykernel)",
      "language": "python",
      "name": "python3"
    },
    "language_info": {
      "codemirror_mode": {
        "name": "ipython",
        "version": 3
      },
      "file_extension": ".py",
      "mimetype": "text/x-python",
      "name": "python",
      "nbconvert_exporter": "python",
      "pygments_lexer": "ipython3",
      "version": "3.12.1"
    },
    "colab": {
      "provenance": []
    }
  },
  "nbformat": 4,
  "nbformat_minor": 5
}