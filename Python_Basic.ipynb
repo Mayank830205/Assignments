{
  "nbformat": 4,
  "nbformat_minor": 0,
  "metadata": {
    "colab": {
      "provenance": []
    },
    "kernelspec": {
      "name": "python3",
      "display_name": "Python 3"
    },
    "language_info": {
      "name": "python"
    }
  },
  "cells": [
    {
      "cell_type": "markdown",
      "source": [
        "# **Python Basic Question**"
      ],
      "metadata": {
        "id": "16CeNTJP52Ar"
      }
    },
    {
      "cell_type": "markdown",
      "source": [
        "1. **What is Python, and why is it popular ?**\n",
        "--->Python is a high level,interpreted and general purpose language.It is popular due to its simplicity and vast libraries.It can be used in various fields like data science,web development,machine learing and automation.\n",
        "\n",
        "\n",
        "2. **What is an interpreter in Python ?**\n",
        "-->Interpreter is a program in a python that executes a program line by line and find the errors in python program.\n",
        "\n",
        "\n",
        "3. **What are pre-defined keywords in Python ?**\n",
        "--> Pre-defined keywords  are the reserved word in the python that are already defined in python we can only use them.we cannot change or modify them.\n",
        "\n",
        "4. **Can keywords be used as variable names?**\n",
        "--> No,Keyword cannot be used as variable names.It gives an error if we use it  as variable name.\n",
        "\n",
        "5. **What is mutability in Python?**\n",
        "-->Mutability is the ability of an Object to changed after it is created.\n",
        "\n",
        "6. **Why are lists mutable, but tuples are immutable ?**\n",
        "-->Lists are mutable because we can change or update the content of list while tuples content are not updatable.list works with the dynamic content while tuples used to represent fixed content like database rows.\n",
        "\n",
        "7. **What is the difference between “==” and “is” operators in Python?**\n",
        "--> \"==\" and \"is\" both are comparision operator.\"==\" returns true if the values are the same even if the objects are different while \"is\" returns true when objects are same.\n",
        "8. **What are logical operators in Python?**\n",
        "-->logical operators are the symbols or keywords the perform boolean operation.logical operators gives true or false in result which is used to control the flow of program.\n",
        "9. **What is type casting in Python?**\n",
        "--> Type casting is a process of converting the variable from one data type into another.\n",
        "10. **What is the difference between implicit and explicit type casting?**\n",
        "--> Implicit type casting is a process of converting the variable from lower data type into higher data types.while Explict type casting is a process of converting the variable from higher data type into lower data types.Implicit type casting is automatically done in python but Explicit is done by the programmer manually.\n",
        "\n",
        "11. **What is the purpose of conditional statements in Python ?**\n",
        "--> The main purpose of conditional statements is to control the flow of program.We can control the execution of program with the help of conditional statements.\n",
        "\n",
        "12. **How does the elif statement work ?**\n",
        "-->Elif statement work with the multiple condition.It checks the condition one by one if the first condition is false then it checks the second condition.If the second codition is also false then it checks next one.If all condition are false the else statement executes.\n",
        "\n",
        "13. **What is the difference between for and while loops ?**\n",
        "-->for loop use when we know the   number of iteration but while is use for unknown number of iterations.\n",
        "\n",
        "14. **Describe a scenario where a while loop is more suitable than a for loop?**\n",
        "-->While loop is ideal in a situations where the number of iteration is not predetermined and as Infinite loop."
      ],
      "metadata": {
        "id": "zcvwNUrs5X9G"
      }
    },
    {
      "cell_type": "markdown",
      "source": [
        "# **Python Practical Questions**"
      ],
      "metadata": {
        "id": "NglU8QTuM-aN"
      }
    },
    {
      "cell_type": "markdown",
      "source": [
        "1 Write a Python program to print \"Hello, World!\""
      ],
      "metadata": {
        "id": "QCLxibhzNZVQ"
      }
    },
    {
      "cell_type": "code",
      "execution_count": null,
      "metadata": {
        "id": "AmgQEJDx5L6D",
        "colab": {
          "base_uri": "https://localhost:8080/"
        },
        "outputId": "36f6a151-aa0a-4e87-d12a-4279e80024e4"
      },
      "outputs": [
        {
          "output_type": "stream",
          "name": "stdout",
          "text": [
            "Hello,World!\n"
          ]
        }
      ],
      "source": [
        "print(\"Hello,World!\")"
      ]
    },
    {
      "cell_type": "markdown",
      "source": [
        "2 .Write a Python program that displays your name and age"
      ],
      "metadata": {
        "id": "bLROQWnIJE-q"
      }
    },
    {
      "cell_type": "code",
      "source": [
        "name=input(\"Enter your name :\")\n",
        "age=int(input(\"Enter your age :\"))\n",
        "print(\"Name :\",name)\n",
        "print(\"Age :\",age)"
      ],
      "metadata": {
        "colab": {
          "base_uri": "https://localhost:8080/"
        },
        "id": "6RZ5tw0_IZK-",
        "outputId": "b9732faa-3944-4161-ed2e-36bb98eefc1b"
      },
      "execution_count": null,
      "outputs": [
        {
          "output_type": "stream",
          "name": "stdout",
          "text": [
            "Enter your name :Mayank\n",
            "Enter your age :21\n",
            "Name : Mayank\n",
            "Age : 21\n"
          ]
        }
      ]
    },
    {
      "cell_type": "markdown",
      "source": [
        "3. Write code to print all the pre-defined keywords in Python using the keyword library"
      ],
      "metadata": {
        "id": "8JhUBjLLJmbI"
      }
    },
    {
      "cell_type": "code",
      "source": [
        "import keyword\n",
        "print(keyword.kwlist)"
      ],
      "metadata": {
        "id": "vUJbXWgHI48t",
        "colab": {
          "base_uri": "https://localhost:8080/"
        },
        "outputId": "85c9a9b6-f3f2-44d2-8b35-3ac4ca39a2cf"
      },
      "execution_count": null,
      "outputs": [
        {
          "output_type": "stream",
          "name": "stdout",
          "text": [
            "['False', 'None', 'True', 'and', 'as', 'assert', 'async', 'await', 'break', 'class', 'continue', 'def', 'del', 'elif', 'else', 'except', 'finally', 'for', 'from', 'global', 'if', 'import', 'in', 'is', 'lambda', 'nonlocal', 'not', 'or', 'pass', 'raise', 'return', 'try', 'while', 'with', 'yield']\n"
          ]
        }
      ]
    },
    {
      "cell_type": "markdown",
      "source": [
        "4. Write a program that checks if a given word is a Python keyword"
      ],
      "metadata": {
        "id": "2xvqT3_BJu9l"
      }
    },
    {
      "cell_type": "code",
      "source": [
        "import keyword\n",
        "word=input(\"Enter a word :\")\n",
        "if word in keyword.kwlist:\n",
        "  print(word,\"is a keyword\")\n",
        "else:\n",
        "  print(word,\"is not a keyword\")"
      ],
      "metadata": {
        "colab": {
          "base_uri": "https://localhost:8080/"
        },
        "id": "3pcdk0_HSdPX",
        "outputId": "8ee52130-9b86-41db-c4b9-71183e388d10"
      },
      "execution_count": null,
      "outputs": [
        {
          "output_type": "stream",
          "name": "stdout",
          "text": [
            "Enter a word :async\n",
            "async is a keyword\n"
          ]
        }
      ]
    },
    {
      "cell_type": "markdown",
      "source": [
        "5.  Create a list and tuple in Python, and demonstrate how attempting to change an element works differently\n",
        "for each."
      ],
      "metadata": {
        "id": "bcnPeX2tJln1"
      }
    },
    {
      "cell_type": "code",
      "source": [
        "li=[1,2,3,4]\n",
        "t=(6,5,3,2)\n",
        "li[0]=10\n",
        "t[0]=10\n",
        "print(li)\n",
        "print(t)\n"
      ],
      "metadata": {
        "colab": {
          "base_uri": "https://localhost:8080/",
          "height": 211
        },
        "id": "-h1VkNukTbQR",
        "outputId": "f5cf6991-b764-440b-8624-e646d3781d30"
      },
      "execution_count": null,
      "outputs": [
        {
          "output_type": "error",
          "ename": "TypeError",
          "evalue": "'tuple' object does not support item assignment",
          "traceback": [
            "\u001b[0;31m---------------------------------------------------------------------------\u001b[0m",
            "\u001b[0;31mTypeError\u001b[0m                                 Traceback (most recent call last)",
            "\u001b[0;32m/tmp/ipython-input-31-932702850.py\u001b[0m in \u001b[0;36m<cell line: 0>\u001b[0;34m()\u001b[0m\n\u001b[1;32m      2\u001b[0m \u001b[0mt\u001b[0m\u001b[0;34m=\u001b[0m\u001b[0;34m(\u001b[0m\u001b[0;36m6\u001b[0m\u001b[0;34m,\u001b[0m\u001b[0;36m5\u001b[0m\u001b[0;34m,\u001b[0m\u001b[0;36m3\u001b[0m\u001b[0;34m,\u001b[0m\u001b[0;36m2\u001b[0m\u001b[0;34m)\u001b[0m\u001b[0;34m\u001b[0m\u001b[0;34m\u001b[0m\u001b[0m\n\u001b[1;32m      3\u001b[0m \u001b[0mli\u001b[0m\u001b[0;34m[\u001b[0m\u001b[0;36m0\u001b[0m\u001b[0;34m]\u001b[0m\u001b[0;34m=\u001b[0m\u001b[0;36m10\u001b[0m\u001b[0;34m\u001b[0m\u001b[0;34m\u001b[0m\u001b[0m\n\u001b[0;32m----> 4\u001b[0;31m \u001b[0mt\u001b[0m\u001b[0;34m[\u001b[0m\u001b[0;36m0\u001b[0m\u001b[0;34m]\u001b[0m\u001b[0;34m=\u001b[0m\u001b[0;36m10\u001b[0m\u001b[0;34m\u001b[0m\u001b[0;34m\u001b[0m\u001b[0m\n\u001b[0m\u001b[1;32m      5\u001b[0m \u001b[0mprint\u001b[0m\u001b[0;34m(\u001b[0m\u001b[0mli\u001b[0m\u001b[0;34m)\u001b[0m\u001b[0;34m\u001b[0m\u001b[0;34m\u001b[0m\u001b[0m\n\u001b[1;32m      6\u001b[0m \u001b[0mprint\u001b[0m\u001b[0;34m(\u001b[0m\u001b[0mt\u001b[0m\u001b[0;34m)\u001b[0m\u001b[0;34m\u001b[0m\u001b[0;34m\u001b[0m\u001b[0m\n",
            "\u001b[0;31mTypeError\u001b[0m: 'tuple' object does not support item assignment"
          ]
        }
      ]
    },
    {
      "cell_type": "markdown",
      "source": [
        "6. . Write a function to demonstrate the behavior of mutable and immutable arguments?"
      ],
      "metadata": {
        "id": "TlsCVbA7eWk7"
      }
    },
    {
      "cell_type": "code",
      "source": [
        "def mutable(li):\n",
        "  print(li)\n",
        "li=[1,2,3,4]\n",
        "mutable(li)\n",
        "li[0]=10\n",
        "print(li)\n",
        "def immutable(t):\n",
        "  print(t)\n",
        "t=(1,2,3,4)\n",
        "immutable(t)\n",
        "t[0]=10\n",
        "print(t)"
      ],
      "metadata": {
        "id": "3D62dfhOxwie",
        "colab": {
          "base_uri": "https://localhost:8080/",
          "height": 245
        },
        "outputId": "9760c918-30b0-41bc-dda9-fe8108ece025"
      },
      "execution_count": 2,
      "outputs": [
        {
          "output_type": "stream",
          "name": "stdout",
          "text": [
            "[1, 2, 3, 4]\n",
            "[10, 2, 3, 4]\n",
            "(1, 2, 3, 4)\n"
          ]
        },
        {
          "output_type": "error",
          "ename": "TypeError",
          "evalue": "'tuple' object does not support item assignment",
          "traceback": [
            "\u001b[0;31m---------------------------------------------------------------------------\u001b[0m",
            "\u001b[0;31mTypeError\u001b[0m                                 Traceback (most recent call last)",
            "\u001b[0;32m/tmp/ipython-input-2-1912752648.py\u001b[0m in \u001b[0;36m<cell line: 0>\u001b[0;34m()\u001b[0m\n\u001b[1;32m      9\u001b[0m \u001b[0mt\u001b[0m\u001b[0;34m=\u001b[0m\u001b[0;34m(\u001b[0m\u001b[0;36m1\u001b[0m\u001b[0;34m,\u001b[0m\u001b[0;36m2\u001b[0m\u001b[0;34m,\u001b[0m\u001b[0;36m3\u001b[0m\u001b[0;34m,\u001b[0m\u001b[0;36m4\u001b[0m\u001b[0;34m)\u001b[0m\u001b[0;34m\u001b[0m\u001b[0;34m\u001b[0m\u001b[0m\n\u001b[1;32m     10\u001b[0m \u001b[0mimmutable\u001b[0m\u001b[0;34m(\u001b[0m\u001b[0mt\u001b[0m\u001b[0;34m)\u001b[0m\u001b[0;34m\u001b[0m\u001b[0;34m\u001b[0m\u001b[0m\n\u001b[0;32m---> 11\u001b[0;31m \u001b[0mt\u001b[0m\u001b[0;34m[\u001b[0m\u001b[0;36m0\u001b[0m\u001b[0;34m]\u001b[0m\u001b[0;34m=\u001b[0m\u001b[0;36m10\u001b[0m\u001b[0;34m\u001b[0m\u001b[0;34m\u001b[0m\u001b[0m\n\u001b[0m\u001b[1;32m     12\u001b[0m \u001b[0mprint\u001b[0m\u001b[0;34m(\u001b[0m\u001b[0mt\u001b[0m\u001b[0;34m)\u001b[0m\u001b[0;34m\u001b[0m\u001b[0;34m\u001b[0m\u001b[0m\n",
            "\u001b[0;31mTypeError\u001b[0m: 'tuple' object does not support item assignment"
          ]
        }
      ]
    },
    {
      "cell_type": "markdown",
      "source": [
        "7. Write a program that performs basic arithmetic operations on two user-input numbers."
      ],
      "metadata": {
        "id": "TFEJ2hTOxxYj"
      }
    },
    {
      "cell_type": "code",
      "source": [
        "a=int(input(\"Enter first number :\"))\n",
        "b=int(input(\"Enter second number :\"))\n",
        "print(\"Addition :\",a+b)\n",
        "print(\"Subtraction :\",a-b)\n",
        "print(\"Multiplication :\",a*b)\n",
        "print(\"Division :\",a/b)"
      ],
      "metadata": {
        "id": "ZPG3mjxjyLl7"
      },
      "execution_count": null,
      "outputs": []
    },
    {
      "cell_type": "markdown",
      "source": [
        "8.  Write a program to demonstrate the use of logical operators."
      ],
      "metadata": {
        "id": "KuRK_PLRyMPw"
      }
    },
    {
      "cell_type": "code",
      "source": [
        "a=int(input(\"Enter a number :\"))\n",
        "if a>0 and a%2==0:\n",
        "  print(\"Number is positive and even\")\n",
        "elif a>0 and a%2!=0:\n",
        "  print(\"Number is positive and odd\")"
      ],
      "metadata": {
        "id": "wCwa6K_tyVzn"
      },
      "execution_count": null,
      "outputs": []
    },
    {
      "cell_type": "markdown",
      "source": [
        "9. Write a Python program to convert user input from string to integer, float, and boolean types"
      ],
      "metadata": {
        "id": "RNl-rQ3hyUkO"
      }
    },
    {
      "cell_type": "code",
      "source": [
        "str=input(\"Enter a string :\")\n",
        "print(\"String :\",str)\n",
        "print(\"Integer :\",int(str))\n",
        "print(\"Float :\",float(str))\n",
        "print(\"Boolean :\",bool(str))"
      ],
      "metadata": {
        "colab": {
          "base_uri": "https://localhost:8080/"
        },
        "id": "SQnzryARyfLF",
        "outputId": "1c1ac97a-20cd-4c4d-cdf2-c51574700838"
      },
      "execution_count": null,
      "outputs": [
        {
          "output_type": "stream",
          "name": "stdout",
          "text": [
            "Enter a string :123\n",
            "String : 123\n",
            "Integer : 123\n",
            "Float : 123.0\n",
            "Boolean : True\n"
          ]
        }
      ]
    },
    {
      "cell_type": "markdown",
      "source": [
        "10. . Write code to demonstrate type casting with list elements."
      ],
      "metadata": {
        "id": "m9AfhYMCyfxa"
      }
    },
    {
      "cell_type": "code",
      "source": [
        "li=[\"1\",\"3.4\"]\n",
        "print(\"List :\",li)\n",
        "print(\"Integer :\",int(li[0]))\n",
        "print(\"Float :\",float(li[1]))"
      ],
      "metadata": {
        "colab": {
          "base_uri": "https://localhost:8080/"
        },
        "id": "dUa7uR-HylOg",
        "outputId": "e107a853-c299-47a4-bc36-9994756da011"
      },
      "execution_count": null,
      "outputs": [
        {
          "output_type": "stream",
          "name": "stdout",
          "text": [
            "List : ['1', '3.4']\n",
            "Integer : 1\n",
            "Float : 3.4\n"
          ]
        }
      ]
    },
    {
      "cell_type": "markdown",
      "source": [
        "11.  Write a program that checks if a number is positive, negative, or zero"
      ],
      "metadata": {
        "id": "0m59zznkylpx"
      }
    },
    {
      "cell_type": "code",
      "source": [
        "num=int(input(\"Enter a number :\"))\n",
        "if num>0:\n",
        "  print(\"Number is positive\")\n",
        "elif num<0:\n",
        "  print(\"Number is negative\")\n",
        "else:\n",
        "  print(\"Number is zero\")"
      ],
      "metadata": {
        "colab": {
          "base_uri": "https://localhost:8080/"
        },
        "id": "79NKseRkyu34",
        "outputId": "2bac726c-8cff-44cf-f00f-2e67b89702ee"
      },
      "execution_count": null,
      "outputs": [
        {
          "output_type": "stream",
          "name": "stdout",
          "text": [
            "Enter a number :10\n",
            "Number is positive\n"
          ]
        }
      ]
    },
    {
      "cell_type": "markdown",
      "source": [
        "12.  Write a for loop to print numbers from 1 to 10."
      ],
      "metadata": {
        "id": "_OzQYu2Eyvh9"
      }
    },
    {
      "cell_type": "code",
      "source": [
        "for i in range(1,11):\n",
        "  print(i)"
      ],
      "metadata": {
        "colab": {
          "base_uri": "https://localhost:8080/"
        },
        "id": "7Jz4ojVfyzt7",
        "outputId": "10351d7a-95ee-49d1-ddc7-fa2a71bfd60d"
      },
      "execution_count": null,
      "outputs": [
        {
          "output_type": "stream",
          "name": "stdout",
          "text": [
            "1\n",
            "2\n",
            "3\n",
            "4\n",
            "5\n",
            "6\n",
            "7\n",
            "8\n",
            "9\n",
            "10\n"
          ]
        }
      ]
    },
    {
      "cell_type": "markdown",
      "source": [
        "13. Write a Python program to find the sum of all even numbers between 1 and 50"
      ],
      "metadata": {
        "id": "GX-up45fy0Lj"
      }
    },
    {
      "cell_type": "code",
      "source": [
        "sum=0\n",
        "for i in range(1,51):\n",
        "  if i%2==0:\n",
        "    sum=sum+i\n",
        "print(\"Sum of even numbers :\",sum)"
      ],
      "metadata": {
        "colab": {
          "base_uri": "https://localhost:8080/"
        },
        "id": "P3_KCpmjy59s",
        "outputId": "791a425e-1221-44f8-fe5d-a20e3568a496"
      },
      "execution_count": null,
      "outputs": [
        {
          "output_type": "stream",
          "name": "stdout",
          "text": [
            "Sum of even numbers : 650\n"
          ]
        }
      ]
    },
    {
      "cell_type": "markdown",
      "source": [
        "14. Write a program to reverse a string using a while loop.\n"
      ],
      "metadata": {
        "id": "08rhAdnIy6Xg"
      }
    },
    {
      "cell_type": "code",
      "source": [
        "str=\"pwskills\"\n",
        "length=len(str)\n",
        "while length>0:\n",
        "  length=length-1\n",
        "  print(str[length],end=\"\")\n"
      ],
      "metadata": {
        "colab": {
          "base_uri": "https://localhost:8080/"
        },
        "id": "KRJoL9uGzGk_",
        "outputId": "154c5b02-172c-49de-feeb-410917a08089"
      },
      "execution_count": null,
      "outputs": [
        {
          "output_type": "stream",
          "name": "stdout",
          "text": [
            "sllikswp"
          ]
        }
      ]
    },
    {
      "cell_type": "markdown",
      "source": [
        "15.  Write a Python program to calculate the factorial of a number provided by the user using a while loop."
      ],
      "metadata": {
        "id": "uY9Q6bt2zHJG"
      }
    },
    {
      "cell_type": "code",
      "source": [
        "num=int(input(\"Enter a number :\"))\n",
        "fact=1\n",
        "while num>0:\n",
        "  fact=fact*num\n",
        "  num=num-1\n",
        "print(\"Factorial :\",fact)"
      ],
      "metadata": {
        "colab": {
          "base_uri": "https://localhost:8080/"
        },
        "id": "LIMb2bO9zNZY",
        "outputId": "b5445a85-33cc-4fc9-e9ca-14e9f5d289a6"
      },
      "execution_count": null,
      "outputs": [
        {
          "output_type": "stream",
          "name": "stdout",
          "text": [
            "Enter a number :5\n",
            "Factorial : 120\n"
          ]
        }
      ]
    }
  ]
}